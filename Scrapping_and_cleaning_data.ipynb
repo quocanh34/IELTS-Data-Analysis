{
  "nbformat": 4,
  "nbformat_minor": 0,
  "metadata": {
    "colab": {
      "name": "Scrapping + cleaning data.ipynb",
      "provenance": [],
      "collapsed_sections": [],
      "authorship_tag": "ABX9TyPVzzeRd9wgUmw41mJUc0Zb",
      "include_colab_link": true
    },
    "kernelspec": {
      "name": "python3",
      "display_name": "Python 3"
    },
    "language_info": {
      "name": "python"
    }
  },
  "cells": [
    {
      "cell_type": "markdown",
      "metadata": {
        "id": "view-in-github",
        "colab_type": "text"
      },
      "source": [
        "<a href=\"https://colab.research.google.com/github/quocanh34/IELTS-Data-Analysis/blob/main/Scrapping_and_cleaning_data.ipynb\" target=\"_parent\"><img src=\"https://colab.research.google.com/assets/colab-badge.svg\" alt=\"Open In Colab\"/></a>"
      ]
    },
    {
      "cell_type": "code",
      "execution_count": null,
      "metadata": {
        "id": "80a7P1WtdaxU"
      },
      "outputs": [],
      "source": [
        "import pandas as pd\n",
        "import numpy as np\n",
        "import matplotlib.pyplot as plt\n",
        "%matplotlib inline"
      ]
    },
    {
      "cell_type": "code",
      "source": [
        "from urllib.request import urlopen\n",
        "from bs4 import BeautifulSoup"
      ],
      "metadata": {
        "id": "-ttflTzQ6glu"
      },
      "execution_count": null,
      "outputs": []
    },
    {
      "cell_type": "code",
      "source": [
        "#open site url\n",
        "\n",
        "url = \"https://www.ielts.org/for-researchers/test-statistics/demographic-data\"\n",
        "html = urlopen(url)"
      ],
      "metadata": {
        "id": "l15saEfK6odJ"
      },
      "execution_count": null,
      "outputs": []
    },
    {
      "cell_type": "code",
      "source": [
        "soup = BeautifulSoup(html, 'lxml')\n",
        "type(soup)"
      ],
      "metadata": {
        "colab": {
          "base_uri": "https://localhost:8080/"
        },
        "id": "4O1PEfaO6ve7",
        "outputId": "f433b830-80d5-47b7-852c-3888819fb6b2"
      },
      "execution_count": null,
      "outputs": [
        {
          "output_type": "execute_result",
          "data": {
            "text/plain": [
              "bs4.BeautifulSoup"
            ]
          },
          "metadata": {},
          "execution_count": 28
        }
      ]
    },
    {
      "cell_type": "code",
      "source": [
        "title = soup.title\n",
        "print(title)"
      ],
      "metadata": {
        "colab": {
          "base_uri": "https://localhost:8080/"
        },
        "id": "sej8CwDp600p",
        "outputId": "103e862c-2a18-412a-b8b5-1c3bfea88a3f"
      },
      "execution_count": null,
      "outputs": [
        {
          "output_type": "stream",
          "name": "stdout",
          "text": [
            "<title>IELTS   Demographic data 2019</title>\n"
          ]
        }
      ]
    },
    {
      "cell_type": "code",
      "source": [
        "text = soup.get_text()\n"
      ],
      "metadata": {
        "id": "WEkxiNvhqZqc"
      },
      "execution_count": null,
      "outputs": []
    },
    {
      "cell_type": "code",
      "source": [
        "# all_links = soup.find_all('a')\n",
        "# for link in all_links:\n",
        "#   print(link.get('href'))\n",
        "rows = soup.find_all('tr')\n",
        "# print(rows)\n",
        "for row in rows:\n",
        "  row_td = row.find_all('td')\n",
        "print(row_td)\n",
        "print(type(row_td))\n"
      ],
      "metadata": {
        "id": "SXxL9yy6qm1d",
        "colab": {
          "base_uri": "https://localhost:8080/"
        },
        "outputId": "a75a90d6-d5d2-43b9-ce2c-4e8f648afe0f"
      },
      "execution_count": null,
      "outputs": [
        {
          "output_type": "stream",
          "name": "stdout",
          "text": [
            "[<td style=\"text-align: left;\">Zimbabwe</td>, <td style=\"text-align: left;\">0%</td>, <td style=\"text-align: left;\">0%</td>, <td style=\"text-align: left;\">0%</td>, <td style=\"text-align: left;\">0%</td>, <td style=\"text-align: left;\">3%</td>, <td style=\"text-align: left;\">7%</td>, <td style=\"text-align: left;\">16%</td>, <td style=\"text-align: left;\">22%</td>, <td style=\"text-align: left;\">25%</td>, <td style=\"text-align: left;\">20%</td>, <td style=\"text-align: left;\">6%</td>, <td style=\"text-align: left;\">0%</td>]\n",
            "<class 'bs4.element.ResultSet'>\n"
          ]
        }
      ]
    },
    {
      "cell_type": "code",
      "source": [
        "#removing HTML tags \n",
        "list_rows = []\n",
        "for row in rows:\n",
        "  row_td = row.find_all('td')\n",
        "  str_cells= str(row_td)\n",
        "  cleantext = BeautifulSoup(str_cells, 'lxml').get_text()\n",
        "  list_rows.append(cleantext)\n",
        "\n",
        "print(list_rows)\n",
        "\n",
        "\n"
      ],
      "metadata": {
        "colab": {
          "base_uri": "https://localhost:8080/"
        },
        "id": "v6IQC9avrYlQ",
        "outputId": "327a07d8-dd87-47a9-cfdc-38e9ad353a83"
      },
      "execution_count": null,
      "outputs": [
        {
          "output_type": "stream",
          "name": "stdout",
          "text": [
            "['[Reason, Below 4, \\xa04, 4.5, 5, 5.5, 6, 6.5, 7, \\xa07.5, \\xa08, \\xa08.5, 9]', '[\\xa0For employment\\n\\xa0\\n, \\xa01%, \\xa01%, 2%, 5%, 11%, 18%, 22%, 21%, 12%, 5%, 1%, \\xa00%]', '[\\xa0For higher education extended course (three months or more)\\n\\xa0\\n, \\xa01%, \\xa01%, 4%, 11%, 21%, 24%, 17%, \\xa011%, \\xa06%, \\xa03%\\xa0, \\xa01%, \\xa00%]', '[\\xa0For higher education short course (three months or less), \\xa01%, \\xa02%, 5%, 13%, 26%, 26%, \\xa015%, \\xa07 %, 4%\\xa0, \\xa02%, \\xa00%, \\xa00%]', '[\\xa0For immigration, \\xa01%, \\xa01%, 2%, 7%, 15%, 21%, \\xa018%, \\xa015%, 11 %, \\xa07%, \\xa02%, \\xa00%]', '[\\xa0For other education purpose, \\xa01%, \\xa02%, 5%, 11%, 19%, 22%, \\xa017%\\xa0, \\xa012%, \\xa08%, \\xa03%\\xa0, \\xa00%, \\xa00%]', '[\\xa0For personal reasons, \\xa01%, \\xa02%, 6%, 13%, 21%, 22%, \\xa017%, \\xa011%, \\xa06%, \\xa02%, \\xa00%, \\xa00%]', '[\\xa0For professional registration (NOT medical), \\xa00%, \\xa01%, 2%, 4%, 7%, 12%, \\xa017%, \\xa021%, \\xa020%, \\xa013%, \\xa03%, \\xa00%]', '[\\xa0For registration as a dentist, \\xa00%, \\xa01%, 4%, 9%, 14%, 13%, \\xa015%, \\xa018%, \\xa014%, 8%, \\xa02%, \\xa00%]', '[\\xa0For registration as a doctor, \\xa00%, \\xa00%, 1%, 2%, 4%, 7%, \\xa012%, \\xa021%, \\xa027%, 21%\\xa0, \\xa05%, 0%]', '[\\xa0For registration as a nurse (including CGFNS), \\xa00%, 0\\xa0%, 1%, 2%, 6%, 17%, \\xa028%, \\xa027%, \\xa015%, \\xa04%, \\xa01%\\xa0, \\xa00%]', '[\\xa0(Other)\\n\\xa0\\n, \\xa01%, \\xa02%, 6%, 12%, 20%, \\xa020%, \\xa016%, \\xa011%, \\xa07%, \\xa03%, \\xa01%, \\xa00%\\xa0]', '[Reason, Below 4, 4, 4.5, 5, 5.5, 6, 6.5, 7, 7.5, 8, 8.5, 9]', '[For employment\\n\\xa0\\n, 2%, 2%, 5%, 11%, 16%, 18%, 16%, 14%, 10%, 5%, 1%, 0%]', '[For higher education extended course (three months or more)\\n\\xa0\\n, 2%, 3%, 7%, 13%, 17%, 17%, 14%, 12%, 9%, 4%, 1%, 0%]', '[For higher education short course (three months or less), 3%, 4%, 7%, 13%, 16%, 16%, 14%, 12%, 9%, 4%, 0%, 0%]', '[For immigration, 0%, 1%, 2%, 4%, 8%, 15%, 19%, 20%, 17%, 10%, 3%, 0%]', '[For other education purpose, 2%, 2%, 6%, 12%, 17%, 17%, 15%, 13%, 9%, 4%, 1%, 0%]', '[For personal reasons, 1%, 2%, 4%, 8%, 12%, 15%, 16%, 18%, 15%, 7%, 1%, 0%]', '[For professional registration (NOT medical), 1%, 1%, 3%, 7%, 12%, 18%, 18%, 18%, 14%, 8%, 1%, 0%]', '[For registration as a dentist, 2%, 1%, 2%, 2%, 7%, 14%, 19%, 20%, 22%, 10%, 1%, 0%]', '[For registration as a doctor, 1%, 2%, 3%, 5%, 10%, 15%, 16%, 19%, 14%, 11%, 3%, 0%]', '[For registration as a nurse (including CGFNS), 1%, 2%, 4%, 9%, 19%, 22%, 18%, 13%, 8%, 3%, 1%, 0%]', '[(Other)\\n\\xa0\\n, 1%, 2%, 4%, 8%, 13%, 16%, 17%, 18%, 13%, 6%, 1%, 0%\\n\\n]', '[Language, Below 4, 4, 4.5, 5, 5.5, 6, 6.5, \\xa07, 7.5, 8, 8.5, 9]', '[\\xa0Arabic, 3%, 6%, 13%, 18%, 18%, 16%, 11%, 8%, 5%, 5%, 2%, \\xa00%]', '[\\xa0Azeri, 0%, 1%, 2%, 6%, 15%, 24%, 21%, 17%, 10%, 4%, 0%, \\xa00%]', '[\\xa0Bengali, 0%, 1%, 3%, 9%, 18%, 22%, 18%, 13%, 9%, 5%, 1%, \\xa00%]', '[\\xa0Chinese, 1%, 2%, 5%, 14%, 24%, 24%, 16%, 9%, 4%, 1%, 0%, \\xa00%]', '[\\xa0English, 0%, 0%, 1%, 3%, 8%, 14%, 18%, 19%, 18%, 14%, \\xa05%, \\xa00%]', '[\\xa0Farsi, 0%, 0%, 2%, 6%, 17%, 25%, 23%, 16%, 8%, 3%, 0%, \\xa00%]', '[\\xa0Filipino, 0%, 0%, 0%, 1%, 4%, 12%, 25%, 29%, 20%, 7%, 1%, \\xa00%]', '[\\xa0French, 0%, 0%, 1%, 4%, 10%, 17%, 19%, 19%, 18%, 10%, 2%, \\xa00%]', '[\\xa0German, 0%, 0%, 0%, 0%, 1%, 5%, 11%, 18%, 28%, 29%, 8%, \\xa00%]', '[\\xa0Greek, 0%, 0%, 0%, 2%, 6%, 12%, 19%, 22%, 22%, 14%, 2%, \\xa00%]', '[\\xa0Gujurati, 0%, 1%, 3%, 11%, 25%, 28%, 18%, 9%, 4%, 1%, 0%, \\xa00%]', '[\\xa0Hindi, 0%, 0%, 1%, 5%, 15%, 23%, 21%, 16%, 11%, 6%, 1%, \\xa00%]', '[\\xa0Ibo/lgbo, \\xa00%, 0%, 1%, 2%, 8%, 16%, 23%, 25%, 18%, 6%, 1%, \\xa00%]', '[\\xa0Indonesian, 0%, 1%, 2%, 5%, 13%, 21%, 22%, 18%, 13%, 6%, 1%, \\xa00%]', '[\\xa0Italian, 0%, 0%, 1%, 3%, 8%, 15%, 20%, 22%, 20%, 10%, 1%, \\xa00%]', '[\\xa0Japanese, 0%, 2%, 6%, 17%, 25%, 23%, 15%, 8%, 3%, 1%, 0%, \\xa00%]', '[\\xa0Kannada, 0%, 0%, 0%, 1%, 7%, 19%, 25%, 23%, 15%, 7%, 1%, \\xa00%]', '[\\xa0Kazakh, 1%, 2%, 4%, 10%, 18%, 24%, 19%, 13%, 7%, 2%, 0%, \\xa00%]', '[\\xa0Khmer, 0%, 2%, 7%, 17%, 25%, 23%, 13%, 7%, 4%, 1%, 0%, \\xa00%]', '[\\xa0Korean, 0%, 1%, 3%, 11%, 22%, 26%, 18%, 11%, 6%, 2%, 0%, \\xa00%]', '[\\xa0Malayalam, \\xa00%, 0%, 0%, 3%, 11%, 24%, 27%, 20%, 10%, 4%, 1%, \\xa00%]', '[\\xa0Marathi, 0%, 0%, 0%, 2%, 7%, 18%, 24%, 22%, 17%, 9%, 1%, \\xa00%]', '[\\xa0Nepali, \\xa00%, 0%, 3%, 12%, 28%, 27%, 17%, 8%, 4%, 1%, 0%, \\xa00%]', '[\\xa0Other, 0%, 0%, 1%, 3%, 10%, 19%, 22%, 20%, 15%, 8%, 1%, \\xa00%]', '[\\xa0Portuguese, 0%, 0%, 1%, 4%, 9%, 15%, 19%, 19%, 9%, 11%, 2%, \\xa00%]', '[\\xa0Punjabi, 1%, 1%, 3%, 12%, \\xa028%, 31%, 16%, 6%, 2%, 0%, 0%, \\xa00%]', '[\\xa0Romanian, 0%, 0%, 0%, 2%, 7%, 14%, 19%, 22%, 20%, 13%, 2%, \\xa00%]', '[\\xa0Russian, 0%, 0%, 1%, 5%, 12%, 19%, 20%, 18%, 15%, 8%, 1%, \\xa00%]', '[\\xa0Singhalese, 0%, 1%, 3%, 9%, 17%, 21%, 18%, 15%, 11%, 6%, 1%, \\xa00%]', '[\\xa0Spanish, 0%, 1%, 2%, 4%, 10%, 18%, 20%, 19%, 16%, 8%, 1%, \\xa00%]', '[\\xa0Tagalog, 0%, 0%, 0%, 1%, 6%, 17%, 27%, 28%, 15%, 5%, 0%, \\xa00%]', '[\\xa0Tamil, 0%, 0%, 1%, 4%, 11%, 20%, 22%, 19%, 14%, 7%, 1%, \\xa00%]', '[\\xa0Telugu, 0%, 0%, 1%, 7%, 20%, 29%, 22%, 13%, 6%, 2%, 0%, \\xa00%]', '[\\xa0Thai, 1%, 1%, 4%, 12%, 22%, 22%, 17%, 11%, 6%, 2%, 0%, \\xa00%]', '[\\xa0Turkish, 0%, 1%, 2%, 7%, 17%, 22%, 19%, 14%, 11%, 6%, 1%, \\xa00%]', '[\\xa0Ukrainian, 0%, 0%, 2%, 4%, 14%, 22%, 20%, 18%, 12%, 6%, 1%, \\xa00%]', '[\\xa0Urdu, \\xa00%, 1%, 2%, 8%, 17%, 21%, 18%, 15%, 11%, 6%, 1%, \\xa00%]', '[\\xa0Uzbek, 1%, 3%, 9%, \\xa019%, 25%, 20%, 12%, 7%, 3%, 1%, 0%, \\xa00%]', '[\\xa0Vietnamese, 1%, 2%, 4%, 11%, 20%, 22%, 17%, 12%, 8%, 3%, 0%, \\xa00%]', '[\\xa0Yoruba, 0%, 0%, 0%, 1%, 6%, 12%, 23%, 26%, 20%, 8%, 1%, \\xa00%]', '[Language, Below 4, 4, 4.5, 5, 5.5, 6, 6.5, \\xa07, 7.5, 8, 8.5, 9]', '[\\xa0Afrikaans, 0%, 0%, 0%, 1%, 3%, 9%, 16%, 18%, 22%, 22%, 8%, \\xa00%]', '[\\xa0Albanian, 2%, 3%, 4%, 9%, 15%, 18%, 18%, 16%, 11%, 4%, 1%, \\xa00%]', '[\\xa0Arabic, 2%, 3%, 5%, 9%, 14%, 16%, 16%, 15%, 12%, 6%, 1%, \\xa00%]', '[\\xa0Bengali, 0%, 1%, 2%, 5%, 9%, 15%, 18%, 20%, 17%, 10%, 3%, \\xa00%]', '[\\xa0Chinese, 1%, 2%, 5%, 11%, 15%, 17%, 16%, 14%, 28%, 6%, 1%, \\xa00%]', '[\\xa0English, 0%, 0%, 1%, 2%, 5%, 11%, 17%, 21%, 21%, 16%, 7%, \\xa01%]', '[\\xa0Farsi, 1%, 1%, 3%, 7%, 12%, 16%, 17%, 17%, 16%, 9%, 2%, \\xa00%]', '[\\xa0Filipino, 1%, 2%, 5%, 9%, 15%, 19%, 18%, 15%, 10%, 5%, 1%, \\xa00%]', '[\\xa0French, 2%, 3%, 6%, 10%, 14%, 15%, 15%, 13%, 12%, 8%, 3%, \\xa00%]', '[\\xa0German, 0%, 1%, 2%, 3%, 5%, 10%, 15%, 16%, 18%, 20%, 10%, \\xa00%]', '[\\xa0Gujurati, 1%, 1%, 3%, 6%, 12%, 18%, 21%, 19%, 13%, 5%, 1%, \\xa00%]', '[\\xa0Hindi, 0%, 0%, 1%, 2%, 5%, 12%, 19%, 25%, 22%, 12%, 2%, \\xa00%]', '[\\xa0Ibo/lgbo, \\xa00%, 0%, 1%, 3%, 7%, 15%, 21%, 23%, 19%, 10%, 1%, \\xa00%]', '[\\xa0Indonesian, 2%, 4%, 8%, 14%, 17%, 17%, 12%, 10%, 10%, 5%, 1%, \\xa00%]', '[\\xa0Italian, 1%, 2%, 7%, 16%, 23%, 18%, 14%, 10%, 6%, 2%, 1%, \\xa00%]', '[\\xa0Japanese, 2%, 3%, 8%, 15%, 23%, 23%, 13%, 7%, 5%, 2%, 0%, \\xa00%]', '[\\xa0Kannada, 0%, 0%, 1%, 2%, 6%, 15%, 21%, 24%, 19%, 10%, 2%, \\xa00%]', '[\\xa0Korean, 2%, 2%, 7%, 15%, 25%, 21%, 12%, 8%, 5%, 2%, 1%, \\xa00%]', '[\\xa0Malayalam, 0%, 0%, 1%, 3%, 8%, 16%, 21%, 23%, 17%, 8%, 1%, \\xa00%]', '[\\xa0Marathi, 0%, 0%, 1%, 1%, 5%, 12%, 19%, 24%, 22%, 13%, 3%, \\xa00%]', '[\\xa0Nepali, 1%, 1%, 4%, 9%, 15%, 18%, 17%, 15%, 11%, 6%, 1%, \\xa00%]', '[\\xa0Other, 0%, 1%, 2%, 4%, 8%, 16%, 19%, 21%, 17%, \\n10%\\n, 2%, \\xa00%]', '[\\xa0Polish, 1%, 1%, 2%, 5%, 10%, 16%, 16%, 18%, 16%, 12%, 4%, \\xa00%]', '[\\xa0Portuguese, 1%, 1%, 2%, 4%, 9%, 14%, 18%, 18%, 18%, 12%, 3%, \\xa00%]', '[\\xa0Punjabi, 1%, 1%, 4%, 7%, 12%, 18%, 21%, 19%, 12%, 4%, 0%, \\xa00%]', '[\\xa0Russian, 1%, 1%, 3%, 6%, \\xa09%, 13%, 16%, 18%, 19%, 13%, 2%, \\xa00%]', '[\\xa0Shona, 0%, 0%, 0%, 0%, 3%, 8%, 16%, 24%, 26%, 18%, 5%, \\xa00%]', '[\\xa0Sindhi, 0%, 0%, 1%, 3%, 7%, 13%, 18%, 22%, 21%, 13%, 2%, \\xa00%]', '[\\xa0Singhalese, 0%, 1%, 2%, 5%, 11%, 17%, 19%, 19%, 15%, 9%, 2%, \\xa00%]', '[\\xa0Spanish, 1%, 1%, 3%, 7%, 14%, 18%, 18%, 16%, 13%, 8%, 2%, \\xa00%]', '[\\xa0Swahili, 0%, 0%, 1%, 3%, 8%, 14%, 21%, 21%, 18%, 12%, 3%, \\xa00%]', '[\\xa0Tagalog, 1%, 3%, 9%, 15%, 18%, 18%, 15%, 11%, 7%, 3%, 1%, \\xa00%]', '[\\xa0Tamil, 0%, 1%, 2%, 4%, 10%, 16%, 20%, 21%, 16%, 9%, 2%, \\xa00%]', '[\\xa0Telugu, 0%, 0%, 1%, 3%, 8%, 17%, 23%, 23%, 16%, 7%, 1%, \\xa00%]', '[\\xa0Thai, 7%, 7%, 13%, 20%, 24%, 16%, 6%, 3%, 2%, 1%, 0%, \\xa00%]', '[\\xa0Turkish, 1%, 1%, 4%, 11%, 20%, 21%, 15%, 12%, 9%, 6%, 1%, \\xa00%]', '[\\xa0Ukrainian, 4%, 4%, 6%, 10%, 11%, 14%, 15%, 15%, 12%, 8%, 1%, \\xa00%]', '[\\xa0Urdu, 0%, 0%, 1%, \\xa04%, 9%, 15%, 19%, 21%, 17%, 10%, 2%, \\xa00%]', '[\\xa0Vietnamese, 2%, 3%, 7%, 11%, 15%, 16%, 13%, 13%, 11%, 6%, 1%, \\xa00%]', '[\\xa0Yoruba, 0%, 0%, 1%, 3%, 7%, 16%, 21%, 24%, 18%, 9%, 1%, \\xa00%]', '[Nationality, Below 4, 4, 4.5, 5, 5.5, 6, 6.5, \\xa07, 7.5, 8, 8.5, 9]', '[\\xa0Bangladesh, 0%, 1%, 3%, 10%, 20%, 23%, 18%, 12%, 8%, 4%, 1%, 0%]', '[\\xa0Brazil, 0%, 0%, 1%, 4%, 10%, 17%, 20%, 19%, 18%, 10%, 2%, 0%]', '[\\xa0Cambodia, \\xa00%, \\xa02%, \\xa07%, \\xa018%, \\xa025%, \\xa023%, \\xa013%, \\xa07%, \\xa04%, \\xa01%, \\xa00%, \\xa00%]', '[\\xa0Canada, \\xa00%, \\xa00%, \\xa01%, \\xa02%, \\xa07%, \\xa014%, \\xa018%, \\xa020%, \\xa019%, \\xa013%, \\xa06%, \\xa00%]', '[\\xa0China\\xa0, \\xa01%, \\xa02%, \\xa06%, \\xa015%, \\xa025%, \\xa025%, \\xa016%, \\xa08%, \\xa03%, \\xa01%, \\xa00%, \\xa00%]', '[\\xa0Colombia, \\xa00%, \\xa01%, \\xa02%, \\xa05%, \\xa013%, \\xa020%, \\xa021%, \\xa018%, \\xa013%, \\xa06%, \\xa01%, \\xa00%]', '[\\xa0Egypt, \\xa01%, \\xa01%, \\xa03%, \\xa07%, \\xa012%, \\xa018%, \\xa019%, \\xa017%, \\xa014%, \\xa07%, \\xa01%, \\xa00%]', '[\\xa0France, \\xa00%, \\xa00%, \\xa01%, \\xa04%, \\xa010%, \\xa016%, \\xa019%, \\xa020%, \\xa018%, \\xa010%, \\xa02%, \\xa00%]', '[\\xa0Germany, \\xa00%, \\xa00%, \\xa00%, \\xa00%, \\xa02%, \\xa06%, \\xa011%, \\xa018%, \\xa027%, \\xa028%, \\xa07%, \\xa00%]', '[\\xa0Greece, \\xa00%, \\xa00%, \\xa00%, \\xa01%, \\xa05%, \\xa011%, \\xa018%, \\xa022%, \\xa024%, \\xa016%, \\xa02%, \\xa00%]', '[\\xa0Hong Kong, SAR of China, \\xa00%, \\xa00%, \\xa01%, \\xa05%, \\xa013%, \\xa018%, \\xa018%, \\xa018%, \\xa017%, \\xa09%, \\xa02%, \\xa00%]', '[\\xa0India, \\xa00%, \\xa01%, \\xa02%, \\xa08%, \\xa021%, \\xa027%, \\xa019%, \\xa011%, \\xa06%, \\xa03%, \\xa00%, \\xa00%]', '[\\xa0Indonesia, \\xa00%, \\xa01%, \\xa02%, \\xa05%, \\xa012%, \\xa020%, \\xa022%, \\xa018%, \\xa013%, \\xa06%, \\xa01%, \\xa00%]', '[\\xa0Iran, \\xa00%, \\xa01%, \\xa02%, \\xa07%, \\xa017%, \\xa025%, \\xa023%, \\xa015%, \\xa07%, \\xa02%, \\xa00%, \\xa00%]', '[\\xa0Iraq, \\xa03%, \\xa06%, \\xa014%, \\xa019%, \\xa020%, \\xa015%, \\xa010%, \\xa07%, \\xa05%, \\xa02%, \\xa00%, \\xa00%]', '[\\xa0Italy, \\xa00%, \\xa00%, \\xa01%, \\xa03%, \\xa08%, \\xa015%, \\xa020%, \\xa022%, \\xa020%, \\xa010%, \\xa01%, \\xa00%]', '[\\xa0Japan, \\xa00%, \\xa02%, \\xa06%, \\xa017%, \\xa025%, \\xa023%, \\xa015%, \\xa08%, \\xa03%, \\xa01%, \\xa00%, \\xa00%]', '[\\xa0Jordan, \\xa01%, \\xa02%, \\xa05%, \\xa010%, \\xa016%, \\xa019%, \\xa017%, \\xa014%, \\xa010%, \\xa05%, \\xa01%, \\xa00%]', '[\\xa0Kazakhstan, \\xa01%, \\xa01%, \\xa03%, \\xa09%, \\xa018%, \\xa023%, \\xa019%, \\xa014%, \\xa08%, \\xa03%, \\xa00%, \\xa00%]', '[\\xa0Korea, Republic of, \\xa00%, \\xa01%, \\xa03%, \\xa011%, \\xa022%, \\xa026%, \\xa018%, \\xa011%, \\xa06%, \\xa02%, \\xa00%, \\xa00%]', '[\\xa0Kuwait, \\xa02%, \\xa06%, \\xa014%, \\xa020%, \\xa020%, \\xa016%, \\xa010%, \\xa07%, \\xa04%, \\xa02%, \\xa00%, \\xa00%]', '[\\xa0Malaysia, \\xa00%, \\xa00%, \\xa00%, \\xa03%, \\xa08%, \\xa014%, \\xa016%, \\xa018%, \\xa021%, \\xa015%, \\xa04%, \\xa00%]', '[\\xa0Mexico, \\xa01%, \\xa01%, \\xa02%, \\xa05%, \\xa011%, \\xa018%, \\xa020%, \\xa019%, \\xa014%, \\xa07%, \\xa01%, \\xa00%]', '[\\xa0Nepal, \\xa00%, \\xa00%, \\xa03%, \\xa012%, \\xa029%, \\xa027%, \\xa016%, \\xa08%, \\xa04%, \\xa01%, \\xa00%, \\xa00%]', '[\\xa0Nigeria, \\xa00%, \\xa00%, \\xa01%, \\xa02%, \\xa07%, \\xa015%, \\xa022%, \\xa025%, \\xa020%, \\xa09%, \\xa01%, \\xa00%]', '[\\xa0Oman, \\xa03%, \\xa08%, \\xa019%, \\xa024%, \\xa022%, \\xa012%, \\xa06%, \\xa03%, \\xa01%, \\xa01%, \\xa00%, \\xa00%]', '[\\xa0Pakistan, \\xa00%, \\xa01%, \\xa03%, \\xa08%, \\xa017%, \\xa021%, \\xa018%, \\xa015%, \\xa011%, \\xa06%, \\xa01%, \\xa00%]', '[\\xa0Philippines, \\xa00%, \\xa00%, \\xa00%, \\xa01%, \\xa05%, \\xa014%, \\xa025%, \\xa029%, \\xa018%, \\xa07%, \\xa01%, \\xa00%]', '[\\xa0Qatar, \\xa03%, \\xa06%, \\xa014%, \\xa022%, \\xa021%, \\xa014%, \\xa010%, \\xa06%, \\xa03%, \\xa01%, \\xa00%, \\xa00%]', '[\\xa0Russian Federation, \\xa00%, \\xa00%, \\xa01%, \\xa03%, \\xa09%, \\xa017%, \\xa020%, \\xa019%, \\xa017%, \\xa010%, \\xa02%, \\xa00%]', '[\\xa0Saudi Arabia, \\xa03%, \\xa06%, \\xa014%, \\xa021%, \\xa022%, \\xa016%, \\xa09%, \\xa05%, \\xa03%, \\xa01%, \\xa00%, \\xa00%]', '[\\xa0Spain, \\xa00%, \\xa00%, \\xa00%, \\xa02%, \\xa07%, \\xa014%, \\xa019%, \\xa023%, \\xa022%, \\xa012%, \\xa02%, \\xa00%]', '[\\xa0Sri Lanka, \\xa00%, \\xa01%, \\xa03%, \\xa09%, \\xa017%, \\xa021%, \\xa018%, \\xa014%, \\xa011%, \\xa06%, \\xa01%, \\xa00%]', '[\\xa0Taiwan, China\\xa0, \\xa00%, \\xa01%, \\xa03%, \\xa09%, \\xa020%, \\xa026%%, \\xa020%, \\xa013%, \\xa07%, \\xa02%, \\xa00%, \\xa00%]', '[\\xa0Thailand, \\xa01%, \\xa01%, \\xa04%, \\xa012%, \\xa022%, \\xa022%, \\xa017%, \\xa012%, \\xa07%, \\xa03%, \\xa00%, \\xa00%]', '[\\xa0Turkey, \\xa00%, \\xa01%, \\xa02%, \\xa07%, \\xa017%, \\xa022%, \\xa019%, \\xa014%, \\xa011%, \\xa05%, \\xa01%, \\xa00%]', '[\\xa0Ukraine, \\xa00%, \\xa00%, \\xa01%, \\xa05%, \\xa014%, \\xa021%, \\xa020%, \\xa018%, \\xa013%, \\xa07%, \\xa01%, \\xa00%]', '[\\xa0United Arab Emirates, \\xa06%, \\xa012%, \\xa024%, \\xa023%, \\xa014%, \\xa09%, \\xa06%, \\xa04%, \\xa02%, \\xa01%, \\xa00%, \\xa00%]', '[\\xa0Uzbekistan, \\xa01%, \\xa03%, \\xa08%, \\xa018%, \\xa025%, \\xa021%, \\xa013%, \\xa08%, \\xa03%, \\xa01%, \\xa00%, \\xa00%]', '[\\xa0Vietnam, \\xa01%, \\xa02%, \\xa04%, \\xa011%, \\xa020%, \\xa022%, \\xa017%, \\xa012%, \\xa08%, \\xa03%, \\xa00%, \\xa00%]', '[Nationality, Below 4, 4, 4.5, 5, 5.5, 6, 6.5, 7, 7.5, 8, 8.5, 9]', '[Argentina, 0%, 1%, 3%, 7%, 13%, 18%, 18%, 16%, 14%, 8%, 1%, 0%]', '[Bangladesh, 0%, 1%, 3%, 6%, 11%, 16%, 18%, 19%, 16%, 8%, 2%, 0%]', '[Brazil, 0%, 1%, 2%, 4%, 9%, 14%, 18%, 18%, 18%, 12%, 2%, 0%]', '[Cameroon, 2%, 4%, 6%, 11%, 17%, 20%, 20%, 11%, 6%, 2%, 0%, 0%]', '[Canada, 0%, 1%, 2%, 3%, 7%, 16%, 23%, 20%, 13%, 9%, 6%, 1%]', '[China, 1%, 2%, 6%, 12%, 16%, 17%, 15%, 14%, 12%, 5%, 1%, 0%]', '[Colombia\\n, 1%, 1%, 3%, 9%, 16%, 21%, 18%, 14%, 10%, 5%, 1%, 0%]', '[Egypt, 0%, 1%, 2%, 5%, 11%, 17%, 18%, 19%, 17%, 8%, 2%, 0%]', '[France, 0%, 0%, 1%, 4%, 9%, 13%, 17%, 18%, 19%, 14%, 5%, 0%]', '[Ghana, 0%, 0%, 1%, 4%, 8%, 15%, 20%, 21%, 19%, 10%, 2%, 0%]', '[Hong Kong, SAR of China, 0%, 0%, 1%, 4%, 11%, 18%, 18%, 18%, 18%, 9%, 1%, 0%]', '[India\\n, 0%, 1%, 2%, 4%, 8%, 15%, 20%, 22%, 18%, 9%, 2%, 0%]', '[Indonesia\\n, 2%, 4%, 8%, 14%, 17%, 17%, 12%, 9%, 10%, 5%, 1%, 0%]', '[Iran\\n, 1%, 1%, 3%, 7%, 11%, 16%, 17%, 17%, 16%, 9%, 2%, 0%]', '[Italy\\n, 1%, 2%, 3%, 8%, 15%, 21%, 17%, 13%, 10%, 7%, 2%, 0%]', '[Jamaica\\n, 0%, 0%, 1%, 2%, 3%, 8%, 14%, 19%, 24%, 21%, 8%, 0%]', '[Japan, 1%, 3%, 7%, 15%, 23%, 22%, 13%, 7%, 5%, 2%, 0%, 0%]', '[Jordan, 1%, 1%, 4%, 8%, 14%, 18%, 18%, 15%, 12%, 7%, 1%, 0%]', '[Kenya, 0%, 0%, 1%, 2%, 5%, 12%, 19%, 21%, 21%, 14%, 4%, 0%]', '[Korea, Republic of, 2%, 2%, 7%, 15%, 25%, 21%, 12%, 7%, 5%, 3%, 1%, 0%]', '[Lebanon, 1%, 0%, 2%, 4%, 8%, 14%, 18%, 21%, 19%, 12%, 2%, 0%]', '[Malaysia, 0%, 1%, 2%, 4%, 10%, 12%, 13%, 16%, 17%, 18%, 7%, 0%]', '[Mexico, 1%, 1%, 3%, 7%, 13%, 17%, 17%, 16%, 15%, 9%, 2%, 0%]', '[Morocco, 1%, 2%, 5%, 10%, 18%, 19%, 17%, 14%, 8%, 5%, 1%, 0%]', '[Nepal, 1%, 1%, 4%, 10%, 15%, 18%, 17%, 15%, 11%, 6%, 1%, 0%]', '[Nigeria, 0%, 0%, 1%, 2%, 6%, 13%, 20%, 24%, 21%, 11%, 2%, 0%]', '[Pakistan, 0%, 1%, 1%, 4%, 9%, 15%, 19%, 20%, 17%, 10%, 2%, 0%]', '[Philippines, 1%, 2%, 6%, 12%, 17%, 19%, 17%, 13%, 9%, 4%, 1%, 0%]', '[Russian Federation, 1%, 1%, 2%, 4%, 8%, 12%, 15%, 18%, 21%, 15%, 3%, 0%]', '[Saudi Arabia\\n, 12%, 13%, 18%, 19%, 15%, 10%, 6%, 4%, 2%, 1%, 0%, 0%]', '[South Africa, 0%, 0%, 0%, 0%, 2%, 6%, 12%, 16%, 22%, 26%, 15%, 1%]', '[Spain, 0%, 0%, 0%, 0%, 2%, 6%, 12%, 16%, 22%, 26%, 15%, 1%]', '[Sri Lanka, 0%, 1%, 2%, 5%, 11%, 17%, 18%, 19%, 16%, 9%, 2%, 0%]', '[Taiwan, China, 1%, 2%, 5%, 12%, 22%, 23%, 14%, 10%, 7%, 4%, 1%, 0%]', '[Thailand, 7%, 7%, 13%, 20%, 24%, 16%, 6%, 3%, 2%, 1%, 0%, 0%]', '[Turkey, 1%, 1%, 4%, 11%, 20%, 21%, 15%, 11%, 9%, 6%, 1%, 0%]', '[Ukraine, 3%, 3%, 6%, 9%, 11%, 14%, 15%, 15%, 13%, 8%, 1%, 0%]', '[United States of America, 0%, 0%, 0%, 1%, 2%, 5%, 10%, 17%, 19%, 20%, 19%, 6%]', '[Vietnam, 2%, 3%, 7%, 11%, 15%, 16%, 13%, 13%, 11%, 6%, 1%, 0%]', '[Zimbabwe, 0%, 0%, 0%, 0%, 3%, 7%, 16%, 22%, 25%, 20%, 6%, 0%]']\n"
          ]
        }
      ]
    },
    {
      "cell_type": "code",
      "source": [
        "#removing commas, square brackets, and selecting dataframe subset\n",
        "\n",
        "df = pd.DataFrame(list_rows)\n",
        "selected_frame = df.iloc[0:12, 0:13]\n",
        "\n",
        "selected_frame = selected_frame[0].str.split(',', expand = True)\n",
        "# print(selected_frame)\n",
        "selected_frame[0] = selected_frame[0].str.strip('[')\n",
        "selected_frame[12] = selected_frame[12].str.strip(']')\n",
        "selected_frame[0] = selected_frame[0].replace('\\n','', regex=True)\n",
        "selected_frame[12] = selected_frame[12].replace('\\n','', regex=True)\n",
        "\n",
        "for i in range(1,13):\n",
        "  selected_frame[i] = selected_frame[i].str.strip()\n",
        "  selected_frame[i] = selected_frame[i].replace('\\xa0', '')\n",
        "  \n",
        "print(selected_frame)\n",
        "\n"
      ],
      "metadata": {
        "colab": {
          "base_uri": "https://localhost:8080/"
        },
        "id": "wgS5lav_u1Ta",
        "outputId": "17e17681-cebb-49c0-cf0a-c87329695c30"
      },
      "execution_count": null,
      "outputs": [
        {
          "output_type": "stream",
          "name": "stdout",
          "text": [
            "                                                   0        1   ...   11  12\n",
            "0                                              Reason  Below 4  ...  8.5   9\n",
            "1                                     For employment        1%  ...   1%  0%\n",
            "2    For higher education extended course (three m...       1%  ...   1%  0%\n",
            "3    For higher education short course (three mont...       1%  ...   0%  0%\n",
            "4                                     For immigration       1%  ...   2%  0%\n",
            "5                         For other education purpose       1%  ...   0%  0%\n",
            "6                                For personal reasons       1%  ...   0%  0%\n",
            "7         For professional registration (NOT medical)       0%  ...   3%  0%\n",
            "8                       For registration as a dentist       0%  ...   2%  0%\n",
            "9                        For registration as a doctor       0%  ...   5%  0%\n",
            "10      For registration as a nurse (including CGFNS)       0%  ...   1%  0%\n",
            "11                                           (Other)        1%  ...   1%  0%\n",
            "\n",
            "[12 rows x 13 columns]\n"
          ]
        }
      ]
    },
    {
      "cell_type": "code",
      "source": [
        "new_header = selected_frame.iloc[0] #grab the first row for the header\n",
        "selected_frame = selected_frame[1:] #take the data less the header row\n",
        "selected_frame.columns = new_header #set the header row as the df header\n",
        "selected_frame"
      ],
      "metadata": {
        "colab": {
          "base_uri": "https://localhost:8080/",
          "height": 394
        },
        "id": "Xk4AgYvEbrZc",
        "outputId": "ee3826f2-9463-4953-d586-4b5a680cd7a2"
      },
      "execution_count": null,
      "outputs": [
        {
          "output_type": "execute_result",
          "data": {
            "text/html": [
              "\n",
              "  <div id=\"df-058c6ba9-ad49-469a-9bcd-dac48b9798cb\">\n",
              "    <div class=\"colab-df-container\">\n",
              "      <div>\n",
              "<style scoped>\n",
              "    .dataframe tbody tr th:only-of-type {\n",
              "        vertical-align: middle;\n",
              "    }\n",
              "\n",
              "    .dataframe tbody tr th {\n",
              "        vertical-align: top;\n",
              "    }\n",
              "\n",
              "    .dataframe thead th {\n",
              "        text-align: right;\n",
              "    }\n",
              "</style>\n",
              "<table border=\"1\" class=\"dataframe\">\n",
              "  <thead>\n",
              "    <tr style=\"text-align: right;\">\n",
              "      <th></th>\n",
              "      <th>Reason</th>\n",
              "      <th>Below 4</th>\n",
              "      <th>4</th>\n",
              "      <th>4.5</th>\n",
              "      <th>5</th>\n",
              "      <th>5.5</th>\n",
              "      <th>6</th>\n",
              "      <th>6.5</th>\n",
              "      <th>7</th>\n",
              "      <th>7.5</th>\n",
              "      <th>8</th>\n",
              "      <th>8.5</th>\n",
              "      <th>9</th>\n",
              "    </tr>\n",
              "  </thead>\n",
              "  <tbody>\n",
              "    <tr>\n",
              "      <th>1</th>\n",
              "      <td>For employment</td>\n",
              "      <td>1%</td>\n",
              "      <td>1%</td>\n",
              "      <td>2%</td>\n",
              "      <td>5%</td>\n",
              "      <td>11%</td>\n",
              "      <td>18%</td>\n",
              "      <td>22%</td>\n",
              "      <td>21%</td>\n",
              "      <td>12%</td>\n",
              "      <td>5%</td>\n",
              "      <td>1%</td>\n",
              "      <td>0%</td>\n",
              "    </tr>\n",
              "    <tr>\n",
              "      <th>2</th>\n",
              "      <td>For higher education extended course (three m...</td>\n",
              "      <td>1%</td>\n",
              "      <td>1%</td>\n",
              "      <td>4%</td>\n",
              "      <td>11%</td>\n",
              "      <td>21%</td>\n",
              "      <td>24%</td>\n",
              "      <td>17%</td>\n",
              "      <td>11%</td>\n",
              "      <td>6%</td>\n",
              "      <td>3%</td>\n",
              "      <td>1%</td>\n",
              "      <td>0%</td>\n",
              "    </tr>\n",
              "    <tr>\n",
              "      <th>3</th>\n",
              "      <td>For higher education short course (three mont...</td>\n",
              "      <td>1%</td>\n",
              "      <td>2%</td>\n",
              "      <td>5%</td>\n",
              "      <td>13%</td>\n",
              "      <td>26%</td>\n",
              "      <td>26%</td>\n",
              "      <td>15%</td>\n",
              "      <td>7 %</td>\n",
              "      <td>4%</td>\n",
              "      <td>2%</td>\n",
              "      <td>0%</td>\n",
              "      <td>0%</td>\n",
              "    </tr>\n",
              "    <tr>\n",
              "      <th>4</th>\n",
              "      <td>For immigration</td>\n",
              "      <td>1%</td>\n",
              "      <td>1%</td>\n",
              "      <td>2%</td>\n",
              "      <td>7%</td>\n",
              "      <td>15%</td>\n",
              "      <td>21%</td>\n",
              "      <td>18%</td>\n",
              "      <td>15%</td>\n",
              "      <td>11 %</td>\n",
              "      <td>7%</td>\n",
              "      <td>2%</td>\n",
              "      <td>0%</td>\n",
              "    </tr>\n",
              "    <tr>\n",
              "      <th>5</th>\n",
              "      <td>For other education purpose</td>\n",
              "      <td>1%</td>\n",
              "      <td>2%</td>\n",
              "      <td>5%</td>\n",
              "      <td>11%</td>\n",
              "      <td>19%</td>\n",
              "      <td>22%</td>\n",
              "      <td>17%</td>\n",
              "      <td>12%</td>\n",
              "      <td>8%</td>\n",
              "      <td>3%</td>\n",
              "      <td>0%</td>\n",
              "      <td>0%</td>\n",
              "    </tr>\n",
              "    <tr>\n",
              "      <th>6</th>\n",
              "      <td>For personal reasons</td>\n",
              "      <td>1%</td>\n",
              "      <td>2%</td>\n",
              "      <td>6%</td>\n",
              "      <td>13%</td>\n",
              "      <td>21%</td>\n",
              "      <td>22%</td>\n",
              "      <td>17%</td>\n",
              "      <td>11%</td>\n",
              "      <td>6%</td>\n",
              "      <td>2%</td>\n",
              "      <td>0%</td>\n",
              "      <td>0%</td>\n",
              "    </tr>\n",
              "    <tr>\n",
              "      <th>7</th>\n",
              "      <td>For professional registration (NOT medical)</td>\n",
              "      <td>0%</td>\n",
              "      <td>1%</td>\n",
              "      <td>2%</td>\n",
              "      <td>4%</td>\n",
              "      <td>7%</td>\n",
              "      <td>12%</td>\n",
              "      <td>17%</td>\n",
              "      <td>21%</td>\n",
              "      <td>20%</td>\n",
              "      <td>13%</td>\n",
              "      <td>3%</td>\n",
              "      <td>0%</td>\n",
              "    </tr>\n",
              "    <tr>\n",
              "      <th>8</th>\n",
              "      <td>For registration as a dentist</td>\n",
              "      <td>0%</td>\n",
              "      <td>1%</td>\n",
              "      <td>4%</td>\n",
              "      <td>9%</td>\n",
              "      <td>14%</td>\n",
              "      <td>13%</td>\n",
              "      <td>15%</td>\n",
              "      <td>18%</td>\n",
              "      <td>14%</td>\n",
              "      <td>8%</td>\n",
              "      <td>2%</td>\n",
              "      <td>0%</td>\n",
              "    </tr>\n",
              "    <tr>\n",
              "      <th>9</th>\n",
              "      <td>For registration as a doctor</td>\n",
              "      <td>0%</td>\n",
              "      <td>0%</td>\n",
              "      <td>1%</td>\n",
              "      <td>2%</td>\n",
              "      <td>4%</td>\n",
              "      <td>7%</td>\n",
              "      <td>12%</td>\n",
              "      <td>21%</td>\n",
              "      <td>27%</td>\n",
              "      <td>21%</td>\n",
              "      <td>5%</td>\n",
              "      <td>0%</td>\n",
              "    </tr>\n",
              "    <tr>\n",
              "      <th>10</th>\n",
              "      <td>For registration as a nurse (including CGFNS)</td>\n",
              "      <td>0%</td>\n",
              "      <td>0 %</td>\n",
              "      <td>1%</td>\n",
              "      <td>2%</td>\n",
              "      <td>6%</td>\n",
              "      <td>17%</td>\n",
              "      <td>28%</td>\n",
              "      <td>27%</td>\n",
              "      <td>15%</td>\n",
              "      <td>4%</td>\n",
              "      <td>1%</td>\n",
              "      <td>0%</td>\n",
              "    </tr>\n",
              "    <tr>\n",
              "      <th>11</th>\n",
              "      <td>(Other)</td>\n",
              "      <td>1%</td>\n",
              "      <td>2%</td>\n",
              "      <td>6%</td>\n",
              "      <td>12%</td>\n",
              "      <td>20%</td>\n",
              "      <td>20%</td>\n",
              "      <td>16%</td>\n",
              "      <td>11%</td>\n",
              "      <td>7%</td>\n",
              "      <td>3%</td>\n",
              "      <td>1%</td>\n",
              "      <td>0%</td>\n",
              "    </tr>\n",
              "  </tbody>\n",
              "</table>\n",
              "</div>\n",
              "      <button class=\"colab-df-convert\" onclick=\"convertToInteractive('df-058c6ba9-ad49-469a-9bcd-dac48b9798cb')\"\n",
              "              title=\"Convert this dataframe to an interactive table.\"\n",
              "              style=\"display:none;\">\n",
              "        \n",
              "  <svg xmlns=\"http://www.w3.org/2000/svg\" height=\"24px\"viewBox=\"0 0 24 24\"\n",
              "       width=\"24px\">\n",
              "    <path d=\"M0 0h24v24H0V0z\" fill=\"none\"/>\n",
              "    <path d=\"M18.56 5.44l.94 2.06.94-2.06 2.06-.94-2.06-.94-.94-2.06-.94 2.06-2.06.94zm-11 1L8.5 8.5l.94-2.06 2.06-.94-2.06-.94L8.5 2.5l-.94 2.06-2.06.94zm10 10l.94 2.06.94-2.06 2.06-.94-2.06-.94-.94-2.06-.94 2.06-2.06.94z\"/><path d=\"M17.41 7.96l-1.37-1.37c-.4-.4-.92-.59-1.43-.59-.52 0-1.04.2-1.43.59L10.3 9.45l-7.72 7.72c-.78.78-.78 2.05 0 2.83L4 21.41c.39.39.9.59 1.41.59.51 0 1.02-.2 1.41-.59l7.78-7.78 2.81-2.81c.8-.78.8-2.07 0-2.86zM5.41 20L4 18.59l7.72-7.72 1.47 1.35L5.41 20z\"/>\n",
              "  </svg>\n",
              "      </button>\n",
              "      \n",
              "  <style>\n",
              "    .colab-df-container {\n",
              "      display:flex;\n",
              "      flex-wrap:wrap;\n",
              "      gap: 12px;\n",
              "    }\n",
              "\n",
              "    .colab-df-convert {\n",
              "      background-color: #E8F0FE;\n",
              "      border: none;\n",
              "      border-radius: 50%;\n",
              "      cursor: pointer;\n",
              "      display: none;\n",
              "      fill: #1967D2;\n",
              "      height: 32px;\n",
              "      padding: 0 0 0 0;\n",
              "      width: 32px;\n",
              "    }\n",
              "\n",
              "    .colab-df-convert:hover {\n",
              "      background-color: #E2EBFA;\n",
              "      box-shadow: 0px 1px 2px rgba(60, 64, 67, 0.3), 0px 1px 3px 1px rgba(60, 64, 67, 0.15);\n",
              "      fill: #174EA6;\n",
              "    }\n",
              "\n",
              "    [theme=dark] .colab-df-convert {\n",
              "      background-color: #3B4455;\n",
              "      fill: #D2E3FC;\n",
              "    }\n",
              "\n",
              "    [theme=dark] .colab-df-convert:hover {\n",
              "      background-color: #434B5C;\n",
              "      box-shadow: 0px 1px 3px 1px rgba(0, 0, 0, 0.15);\n",
              "      filter: drop-shadow(0px 1px 2px rgba(0, 0, 0, 0.3));\n",
              "      fill: #FFFFFF;\n",
              "    }\n",
              "  </style>\n",
              "\n",
              "      <script>\n",
              "        const buttonEl =\n",
              "          document.querySelector('#df-058c6ba9-ad49-469a-9bcd-dac48b9798cb button.colab-df-convert');\n",
              "        buttonEl.style.display =\n",
              "          google.colab.kernel.accessAllowed ? 'block' : 'none';\n",
              "\n",
              "        async function convertToInteractive(key) {\n",
              "          const element = document.querySelector('#df-058c6ba9-ad49-469a-9bcd-dac48b9798cb');\n",
              "          const dataTable =\n",
              "            await google.colab.kernel.invokeFunction('convertToInteractive',\n",
              "                                                     [key], {});\n",
              "          if (!dataTable) return;\n",
              "\n",
              "          const docLinkHtml = 'Like what you see? Visit the ' +\n",
              "            '<a target=\"_blank\" href=https://colab.research.google.com/notebooks/data_table.ipynb>data table notebook</a>'\n",
              "            + ' to learn more about interactive tables.';\n",
              "          element.innerHTML = '';\n",
              "          dataTable['output_type'] = 'display_data';\n",
              "          await google.colab.output.renderOutput(dataTable, element);\n",
              "          const docLink = document.createElement('div');\n",
              "          docLink.innerHTML = docLinkHtml;\n",
              "          element.appendChild(docLink);\n",
              "        }\n",
              "      </script>\n",
              "    </div>\n",
              "  </div>\n",
              "  "
            ],
            "text/plain": [
              "0                                              Reason Below 4    4  ...    8 8.5   9\n",
              "1                                     For employment       1%   1%  ...   5%  1%  0%\n",
              "2    For higher education extended course (three m...      1%   1%  ...   3%  1%  0%\n",
              "3    For higher education short course (three mont...      1%   2%  ...   2%  0%  0%\n",
              "4                                     For immigration      1%   1%  ...   7%  2%  0%\n",
              "5                         For other education purpose      1%   2%  ...   3%  0%  0%\n",
              "6                                For personal reasons      1%   2%  ...   2%  0%  0%\n",
              "7         For professional registration (NOT medical)      0%   1%  ...  13%  3%  0%\n",
              "8                       For registration as a dentist      0%   1%  ...   8%  2%  0%\n",
              "9                        For registration as a doctor      0%   0%  ...  21%  5%  0%\n",
              "10      For registration as a nurse (including CGFNS)      0%  0 %  ...   4%  1%  0%\n",
              "11                                           (Other)       1%   2%  ...   3%  1%  0%\n",
              "\n",
              "[11 rows x 13 columns]"
            ]
          },
          "metadata": {},
          "execution_count": 79
        }
      ]
    },
    {
      "cell_type": "code",
      "source": [
        "#exporting to excel file and download\n",
        "\n",
        "from google.colab import files\n",
        "\n",
        "# selected_frame.to_excel('IELTS_data_analysis.xlsx', encoding = 'utf-8-sig') \n",
        "# files.download('IELTS_data_analysis.xlsx')\n",
        "selected_frame.to_csv('IELTS_data_analysis.csv', encoding = 'utf-8-sig') \n",
        "files.download('IELTS_data_analysis.csv')"
      ],
      "metadata": {
        "colab": {
          "base_uri": "https://localhost:8080/",
          "height": 17
        },
        "id": "RK41pJSpEqvS",
        "outputId": "e8f58a15-56a3-4624-ca70-c9a6c699ac1e"
      },
      "execution_count": null,
      "outputs": [
        {
          "output_type": "display_data",
          "data": {
            "application/javascript": [
              "\n",
              "    async function download(id, filename, size) {\n",
              "      if (!google.colab.kernel.accessAllowed) {\n",
              "        return;\n",
              "      }\n",
              "      const div = document.createElement('div');\n",
              "      const label = document.createElement('label');\n",
              "      label.textContent = `Downloading \"${filename}\": `;\n",
              "      div.appendChild(label);\n",
              "      const progress = document.createElement('progress');\n",
              "      progress.max = size;\n",
              "      div.appendChild(progress);\n",
              "      document.body.appendChild(div);\n",
              "\n",
              "      const buffers = [];\n",
              "      let downloaded = 0;\n",
              "\n",
              "      const channel = await google.colab.kernel.comms.open(id);\n",
              "      // Send a message to notify the kernel that we're ready.\n",
              "      channel.send({})\n",
              "\n",
              "      for await (const message of channel.messages) {\n",
              "        // Send a message to notify the kernel that we're ready.\n",
              "        channel.send({})\n",
              "        if (message.buffers) {\n",
              "          for (const buffer of message.buffers) {\n",
              "            buffers.push(buffer);\n",
              "            downloaded += buffer.byteLength;\n",
              "            progress.value = downloaded;\n",
              "          }\n",
              "        }\n",
              "      }\n",
              "      const blob = new Blob(buffers, {type: 'application/binary'});\n",
              "      const a = document.createElement('a');\n",
              "      a.href = window.URL.createObjectURL(blob);\n",
              "      a.download = filename;\n",
              "      div.appendChild(a);\n",
              "      a.click();\n",
              "      div.remove();\n",
              "    }\n",
              "  "
            ],
            "text/plain": [
              "<IPython.core.display.Javascript object>"
            ]
          },
          "metadata": {}
        },
        {
          "output_type": "display_data",
          "data": {
            "application/javascript": [
              "download(\"download_6f594b84-9bb1-40fe-81aa-2a6af3360e1e\", \"IELTS_data_analysis.csv\", 909)"
            ],
            "text/plain": [
              "<IPython.core.display.Javascript object>"
            ]
          },
          "metadata": {}
        }
      ]
    },
    {
      "cell_type": "code",
      "source": [
        ""
      ],
      "metadata": {
        "id": "6T548ZBEaReu"
      },
      "execution_count": null,
      "outputs": []
    }
  ]
}